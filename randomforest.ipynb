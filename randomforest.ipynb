{
 "cells": [
  {
   "cell_type": "code",
   "execution_count": 1,
   "metadata": {
    "scrolled": false
   },
   "outputs": [],
   "source": [
    "import cv2\n",
    "import numpy as np\n",
    "import scipy.io\n",
    "\n",
    "#        8   12  16  20\n",
    "#        |   |   |   |\n",
    "#        7   11  15  19\n",
    "#    4   |   |   |   |\n",
    "#    |   6   10  14  18\n",
    "#    3   |   |   |   |\n",
    "#    |   5---9---13--17\n",
    "#    2    \\         /\n",
    "#     \\    \\       /\n",
    "#      1    \\     /\n",
    "#       \\    \\   /\n",
    "#        ------0-\n",
    "connections = [\n",
    "    (0, 1), (1, 2), (2, 3), (3, 4),\n",
    "    (5, 6), (6, 7), (7, 8),\n",
    "    (9, 10), (10, 11), (11, 12),\n",
    "    (13, 14), (14, 15), (15, 16),\n",
    "    (17, 18), (18, 19), (19, 20),\n",
    "    (0, 5), (5, 9), (9, 13), (13, 17), (0, 17)\n",
    "]\n",
    "\n",
    "mat = scipy.io.loadmat(\"keypoint_gestures.mat\")\n",
    "keypoints = mat[\"keypoints\"]\n",
    "labels = mat[\"labels\"]\n",
    "\n",
    "def visualize(points, resolution=(480, 640, 3)):\n",
    "    img = np.zeros(resolution)\n",
    "    for point in points:\n",
    "        x, y = point\n",
    "        cv2.circle(img, (int(x) * 2, int(y) * 2), 4, (255, 0, 0), 2)\n",
    "    for connection in connections:\n",
    "        x0, y0 = points[connection[0]]\n",
    "        x1, y1 = points[connection[1]]\n",
    "        cv2.line(img, (int(x0) * 2, int(y0) * 2), (int(x1) * 2, int(y1) * 2), (0, 255, 0), 2)\n",
    "    cv2.imshow(\"Key Points\", img)\n",
    "    cv2.waitKey(0)\n",
    "    cv2.destroyAllWindows()"
   ]
  },
  {
   "cell_type": "code",
   "execution_count": 2,
   "metadata": {},
   "outputs": [],
   "source": [
    "visualize(keypoints[1])"
   ]
  },
  {
   "cell_type": "code",
   "execution_count": 9,
   "metadata": {},
   "outputs": [
    {
     "data": {
      "text/plain": [
       "29282"
      ]
     },
     "execution_count": 9,
     "metadata": {},
     "output_type": "execute_result"
    }
   ],
   "source": [
    "len(mat['keypoints'])\n",
    "len(labels[0])"
   ]
  },
  {
   "cell_type": "markdown",
   "metadata": {},
   "source": [
    "## Test train split"
   ]
  },
  {
   "cell_type": "code",
   "execution_count": 18,
   "metadata": {},
   "outputs": [],
   "source": [
    "from sklearn.model_selection import train_test_split"
   ]
  },
  {
   "cell_type": "code",
   "execution_count": 49,
   "metadata": {},
   "outputs": [],
   "source": [
    "X = mat['keypoints']\n",
    "x, y, z = np.shape(X)\n",
    "X = X.reshape((x, y * z))\n",
    "y = labels[0]"
   ]
  },
  {
   "cell_type": "code",
   "execution_count": 50,
   "metadata": {},
   "outputs": [],
   "source": [
    "# Train, test sets split\n",
    "X_train, X_test, y_train, y_test = train_test_split(X, y, test_size=0.2, random_state=42)"
   ]
  },
  {
   "cell_type": "markdown",
   "metadata": {},
   "source": [
    "# Random Forest"
   ]
  },
  {
   "cell_type": "code",
   "execution_count": 137,
   "metadata": {},
   "outputs": [],
   "source": [
    "from sklearn.ensemble import RandomForestClassifier\n",
    "from matplotlib.legend_handler import HandlerLine2D\n",
    "import matplotlib.pyplot as plt"
   ]
  },
  {
   "cell_type": "markdown",
   "metadata": {},
   "source": [
    "### Tuning n_estimators"
   ]
  },
  {
   "cell_type": "code",
   "execution_count": 112,
   "metadata": {},
   "outputs": [],
   "source": [
    "# Preparing of a list of n_estimators values to tune\n",
    "n_estimators = [1, 2, 4, 8, 16, 32, 64, 100, 200]"
   ]
  },
  {
   "cell_type": "code",
   "execution_count": 133,
   "metadata": {},
   "outputs": [
    {
     "name": "stdout",
     "output_type": "stream",
     "text": [
      "Training for estimator = 1 done, train accy = 0.8870437566702242, test accy = 0.6962608844118149\n",
      "Training for estimator = 2 done, train accy = 0.8842689434364994, test accy = 0.697114563769848\n",
      "Training for estimator = 4 done, train accy = 0.9709711846318037, test accy = 0.794434010585624\n",
      "Training for estimator = 8 done, train accy = 0.9936392742796158, test accy = 0.833532525183541\n",
      "Training for estimator = 16 done, train accy = 0.9994450373532551, test accy = 0.856752603722042\n",
      "Training for estimator = 32 done, train accy = 1.0, test accy = 0.8687041147345057\n",
      "Training for estimator = 64 done, train accy = 1.0, test accy = 0.8774116441864436\n",
      "Training for estimator = 100 done, train accy = 1.0, test accy = 0.8770701724432304\n",
      "Training for estimator = 200 done, train accy = 1.0, test accy = 0.8779238518012634\n"
     ]
    }
   ],
   "source": [
    "# Loop through the list of estimators to obtain the accuracies\n",
    "train_accuracies = []\n",
    "test_accuracies = []\n",
    "for estimator in n_estimators:\n",
    "    # Initialize a random forest classifier\n",
    "    rf_clf = RandomForestClassifier(n_estimators=estimator)\n",
    "    \n",
    "    # Start training\n",
    "    rf_inst = rf_clf.fit(X_train, y_train)\n",
    "    \n",
    "    # Obtaining training accuracy\n",
    "    train_acc = rf_inst.score(X_train, y_train)\n",
    "    train_accuracies.append(train_acc)\n",
    "    \n",
    "    # Obtaining testing accuracy\n",
    "    test_acc = rf_inst.score(X_test, y_test)\n",
    "    test_accuracies.append(test_acc)\n",
    "    \n",
    "    # Report training stats\n",
    "    print(\"Training for estimator = {} done, train accy = {}, test accy = {}\".format(estimator, train_acc, test_acc))"
   ]
  },
  {
   "cell_type": "code",
   "execution_count": 140,
   "metadata": {},
   "outputs": [
    {
     "data": {
      "image/png": "[encoded data removed]",
      "text/plain": [
       "<Figure size 432x288 with 1 Axes>"
      ]
     },
     "metadata": {
      "needs_background": "light"
     },
     "output_type": "display_data"
    }
   ],
   "source": [
    "line1, = plt.plot(n_estimators, train_accuracies, 'b')\n",
    "line2, = plt.plot(n_estimators, test_accuracies, 'r')\n",
    "plt.ylabel('Accuracies')\n",
    "plt.xlabel('n_estimators')\n",
    "plt.show()"
   ]
  },
  {
   "cell_type": "markdown",
   "metadata": {},
   "source": [
    "### Tuning max_depth"
   ]
  },
  {
   "cell_type": "code",
   "execution_count": 146,
   "metadata": {},
   "outputs": [],
   "source": [
    "# Prepare a list of depth values\n",
    "depths = np.linspace(1, 32, 32, endpoint=True)"
   ]
  },
  {
   "cell_type": "code",
   "execution_count": 148,
   "metadata": {},
   "outputs": [
    {
     "name": "stdout",
     "output_type": "stream",
     "text": [
      "Training for estimator = 1.0 done, train accy = 0.21771611526147278, test accy = 0.21256616015024757\n",
      "Training for estimator = 2.0 done, train accy = 0.3297331910352188, test accy = 0.3267884582550794\n",
      "Training for estimator = 3.0 done, train accy = 0.4311632870864461, test accy = 0.4319617551647601\n",
      "Training for estimator = 4.0 done, train accy = 0.5165421558164355, test accy = 0.5183541061977122\n",
      "Training for estimator = 5.0 done, train accy = 0.5786552828175027, test accy = 0.5717944340105856\n",
      "Training for estimator = 6.0 done, train accy = 0.656478121664888, test accy = 0.6382106880655626\n",
      "Training for estimator = 7.0 done, train accy = 0.7016008537886873, test accy = 0.6732115417449206\n",
      "Training for estimator = 8.0 done, train accy = 0.7534258271077908, test accy = 0.71623698138979\n",
      "Training for estimator = 9.0 done, train accy = 0.8025613660618997, test accy = 0.7497012122246884\n",
      "Training for estimator = 10.0 done, train accy = 0.8536606189967982, test accy = 0.7778726310397814\n",
      "Training for estimator = 11.0 done, train accy = 0.8943863393810032, test accy = 0.7995560867338227\n",
      "Training for estimator = 12.0 done, train accy = 0.9276840981856991, test accy = 0.8198736554550111\n",
      "Training for estimator = 13.0 done, train accy = 0.9557310565635005, test accy = 0.8366057708724604\n",
      "Training for estimator = 14.0 done, train accy = 0.9728068303094984, test accy = 0.8516305275738433\n",
      "Training for estimator = 15.0 done, train accy = 0.9862966915688367, test accy = 0.8598258494109613\n",
      "Training for estimator = 16.0 done, train accy = 0.9934685165421558, test accy = 0.86494792555916\n",
      "Training for estimator = 17.0 done, train accy = 0.9973959445037354, test accy = 0.868533378862899\n",
      "Training for estimator = 18.0 done, train accy = 0.9990608324439701, test accy = 0.8721188321666382\n",
      "Training for estimator = 19.0 done, train accy = 0.99991462113127, test accy = 0.8717773604234249\n",
      "Training for estimator = 20.0 done, train accy = 1.0, test accy = 0.8777531159296568\n",
      "Training for estimator = 21.0 done, train accy = 1.0, test accy = 0.8762164930851972\n",
      "Training for estimator = 22.0 done, train accy = 1.0, test accy = 0.8770701724432304\n",
      "Training for estimator = 23.0 done, train accy = 1.0, test accy = 0.8789482670309032\n",
      "Training for estimator = 24.0 done, train accy = 1.0, test accy = 0.8801434181321496\n",
      "Training for estimator = 25.0 done, train accy = 0.999957310565635, test accy = 0.8780945876728701\n",
      "Training for estimator = 26.0 done, train accy = 1.0, test accy = 0.8770701724432304\n",
      "Training for estimator = 27.0 done, train accy = 1.0, test accy = 0.8801434181321496\n",
      "Training for estimator = 28.0 done, train accy = 1.0, test accy = 0.8786067952876899\n",
      "Training for estimator = 29.0 done, train accy = 0.999957310565635, test accy = 0.8787775311592966\n",
      "Training for estimator = 30.0 done, train accy = 1.0, test accy = 0.8794604746457231\n",
      "Training for estimator = 31.0 done, train accy = 1.0, test accy = 0.8772409083148369\n",
      "Training for estimator = 32.0 done, train accy = 1.0, test accy = 0.8786067952876899\n"
     ]
    }
   ],
   "source": [
    "# Loop through the list of depth values to obtain the accuracies\n",
    "train_accuracies = []\n",
    "test_accuracies = []\n",
    "for max_depth in depths:\n",
    "    # Initialize a random forest classifier\n",
    "    rf_clf = RandomForestClassifier(max_depth=max_depth)\n",
    "    \n",
    "    # Start training\n",
    "    rf_inst = rf_clf.fit(X_train, y_train)\n",
    "    \n",
    "    # Obtaining training accuracy\n",
    "    train_acc = rf_inst.score(X_train, y_train)\n",
    "    train_accuracies.append(train_acc)\n",
    "    \n",
    "    # Obtaining testing accuracy\n",
    "    test_acc = rf_inst.score(X_test, y_test)\n",
    "    test_accuracies.append(test_acc)\n",
    "    \n",
    "    # Report training stats\n",
    "    print(\"Training for max_depth = {} done, train accy = {}, test accy = {}\".format(max_depth, train_acc, test_acc))"
   ]
  },
  {
   "cell_type": "code",
   "execution_count": 149,
   "metadata": {},
   "outputs": [
    {
     "data": {
      "image/png": "[encoded data removed]",
      "text/plain": [
       "<Figure size 432x288 with 1 Axes>"
      ]
     },
     "metadata": {
      "needs_background": "light"
     },
     "output_type": "display_data"
    }
   ],
   "source": [
    "line1, = plt.plot(depths, train_accuracies, 'b')\n",
    "line2, = plt.plot(depths, test_accuracies, 'r')\n",
    "plt.ylabel('Accuracies')\n",
    "plt.xlabel('n_estimators')\n",
    "plt.show()"
   ]
  },
  {
   "cell_type": "markdown",
   "metadata": {},
   "source": [
    "### Final Training"
   ]
  },
  {
   "cell_type": "code",
   "execution_count": 175,
   "metadata": {},
   "outputs": [],
   "source": [
    "n_estimator = 100\n",
    "max_depth = 20"
   ]
  },
  {
   "cell_type": "code",
   "execution_count": 176,
   "metadata": {},
   "outputs": [
    {
     "data": {
      "text/plain": [
       "0.8782653235444767"
      ]
     },
     "execution_count": 176,
     "metadata": {},
     "output_type": "execute_result"
    }
   ],
   "source": [
    "# Initialize a random forest classifier\n",
    "rf_clf = RandomForestClassifier(max_depth=max_depth, n_estimators=n_estimator)\n",
    "    \n",
    "# Start training\n",
    "rf_inst = rf_clf.fit(X_train, y_train)\n",
    "\n",
    "# Get prediction accuracy\n",
    "rf_inst.score(X_test, y_test)"
   ]
  }
 ],
 "metadata": {
  "kernelspec": {
   "display_name": "Python 3",
   "language": "python",
   "name": "python3"
  },
  "language_info": {
   "codemirror_mode": {
    "name": "ipython",
    "version": 3
   },
   "file_extension": ".py",
   "mimetype": "text/x-python",
   "name": "python",
   "nbconvert_exporter": "python",
   "pygments_lexer": "ipython3",
   "version": "3.8.6"
  }
 },
 "nbformat": 4,
 "nbformat_minor": 4
}
